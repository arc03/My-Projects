{
  "cells": [
    {
      "cell_type": "markdown",
      "metadata": {
        "id": "view-in-github",
        "colab_type": "text"
      },
      "source": [
        "<a href=\"https://colab.research.google.com/github/arc03/My-Projects/blob/main/News_Classification_.ipynb\" target=\"_parent\"><img src=\"https://colab.research.google.com/assets/colab-badge.svg\" alt=\"Open In Colab\"/></a>"
      ]
    },
    {
      "cell_type": "code",
      "execution_count": null,
      "metadata": {
        "id": "W5ODNxRHstKv"
      },
      "outputs": [],
      "source": [
        "import nltk"
      ],
      "id": "W5ODNxRHstKv"
    },
    {
      "cell_type": "code",
      "execution_count": null,
      "metadata": {
        "id": "duG6yvQNstLA",
        "outputId": "99addf19-5792-4138-fea6-7650fc748d37"
      },
      "outputs": [
        {
          "name": "stdout",
          "output_type": "stream",
          "text": [
            "showing info https://raw.githubusercontent.com/nltk/nltk_data/gh-pages/index.xml\n"
          ]
        },
        {
          "data": {
            "text/plain": [
              "True"
            ]
          },
          "execution_count": 2,
          "metadata": {},
          "output_type": "execute_result"
        }
      ],
      "source": [
        "nltk.download()"
      ],
      "id": "duG6yvQNstLA"
    },
    {
      "cell_type": "code",
      "execution_count": null,
      "metadata": {
        "id": "bViiQGPXstLE"
      },
      "outputs": [],
      "source": [
        "import pandas as pd"
      ],
      "id": "bViiQGPXstLE"
    },
    {
      "cell_type": "markdown",
      "metadata": {
        "id": "XLvjmn47stLG"
      },
      "source": [
        "# Data:-"
      ],
      "id": "XLvjmn47stLG"
    },
    {
      "cell_type": "code",
      "execution_count": null,
      "metadata": {
        "id": "MNWTcDrfstLM"
      },
      "outputs": [],
      "source": [
        "fake=pd.read_csv(\"Fake-211023-185413.csv\")"
      ],
      "id": "MNWTcDrfstLM"
    },
    {
      "cell_type": "code",
      "execution_count": null,
      "metadata": {
        "id": "3fBsOCNDstLO"
      },
      "outputs": [],
      "source": [
        "true=pd.read_csv(\"True-211023-185340.csv\")"
      ],
      "id": "3fBsOCNDstLO"
    },
    {
      "cell_type": "code",
      "execution_count": null,
      "metadata": {
        "id": "9__BkjhUstLQ",
        "outputId": "116bb59e-9302-4d42-86f0-ecac860a0c87"
      },
      "outputs": [
        {
          "data": {
            "text/html": [
              "<div>\n",
              "<style scoped>\n",
              "    .dataframe tbody tr th:only-of-type {\n",
              "        vertical-align: middle;\n",
              "    }\n",
              "\n",
              "    .dataframe tbody tr th {\n",
              "        vertical-align: top;\n",
              "    }\n",
              "\n",
              "    .dataframe thead th {\n",
              "        text-align: right;\n",
              "    }\n",
              "</style>\n",
              "<table border=\"1\" class=\"dataframe\">\n",
              "  <thead>\n",
              "    <tr style=\"text-align: right;\">\n",
              "      <th></th>\n",
              "      <th>title</th>\n",
              "      <th>text</th>\n",
              "      <th>subject</th>\n",
              "      <th>date</th>\n",
              "    </tr>\n",
              "  </thead>\n",
              "  <tbody>\n",
              "    <tr>\n",
              "      <th>0</th>\n",
              "      <td>Donald Trump Sends Out Embarrassing New Year’...</td>\n",
              "      <td>Donald Trump just couldn t wish all Americans ...</td>\n",
              "      <td>News</td>\n",
              "      <td>December 31, 2017</td>\n",
              "    </tr>\n",
              "    <tr>\n",
              "      <th>1</th>\n",
              "      <td>Drunk Bragging Trump Staffer Started Russian ...</td>\n",
              "      <td>House Intelligence Committee Chairman Devin Nu...</td>\n",
              "      <td>News</td>\n",
              "      <td>December 31, 2017</td>\n",
              "    </tr>\n",
              "    <tr>\n",
              "      <th>2</th>\n",
              "      <td>Sheriff David Clarke Becomes An Internet Joke...</td>\n",
              "      <td>On Friday, it was revealed that former Milwauk...</td>\n",
              "      <td>News</td>\n",
              "      <td>December 30, 2017</td>\n",
              "    </tr>\n",
              "    <tr>\n",
              "      <th>3</th>\n",
              "      <td>Trump Is So Obsessed He Even Has Obama’s Name...</td>\n",
              "      <td>On Christmas day, Donald Trump announced that ...</td>\n",
              "      <td>News</td>\n",
              "      <td>December 29, 2017</td>\n",
              "    </tr>\n",
              "    <tr>\n",
              "      <th>4</th>\n",
              "      <td>Pope Francis Just Called Out Donald Trump Dur...</td>\n",
              "      <td>Pope Francis used his annual Christmas Day mes...</td>\n",
              "      <td>News</td>\n",
              "      <td>December 25, 2017</td>\n",
              "    </tr>\n",
              "    <tr>\n",
              "      <th>...</th>\n",
              "      <td>...</td>\n",
              "      <td>...</td>\n",
              "      <td>...</td>\n",
              "      <td>...</td>\n",
              "    </tr>\n",
              "    <tr>\n",
              "      <th>23476</th>\n",
              "      <td>McPain: John McCain Furious That Iran Treated ...</td>\n",
              "      <td>21st Century Wire says As 21WIRE reported earl...</td>\n",
              "      <td>Middle-east</td>\n",
              "      <td>January 16, 2016</td>\n",
              "    </tr>\n",
              "    <tr>\n",
              "      <th>23477</th>\n",
              "      <td>JUSTICE? Yahoo Settles E-mail Privacy Class-ac...</td>\n",
              "      <td>21st Century Wire says It s a familiar theme. ...</td>\n",
              "      <td>Middle-east</td>\n",
              "      <td>January 16, 2016</td>\n",
              "    </tr>\n",
              "    <tr>\n",
              "      <th>23478</th>\n",
              "      <td>Sunnistan: US and Allied ‘Safe Zone’ Plan to T...</td>\n",
              "      <td>Patrick Henningsen  21st Century WireRemember ...</td>\n",
              "      <td>Middle-east</td>\n",
              "      <td>January 15, 2016</td>\n",
              "    </tr>\n",
              "    <tr>\n",
              "      <th>23479</th>\n",
              "      <td>How to Blow $700 Million: Al Jazeera America F...</td>\n",
              "      <td>21st Century Wire says Al Jazeera America will...</td>\n",
              "      <td>Middle-east</td>\n",
              "      <td>January 14, 2016</td>\n",
              "    </tr>\n",
              "    <tr>\n",
              "      <th>23480</th>\n",
              "      <td>10 U.S. Navy Sailors Held by Iranian Military ...</td>\n",
              "      <td>21st Century Wire says As 21WIRE predicted in ...</td>\n",
              "      <td>Middle-east</td>\n",
              "      <td>January 12, 2016</td>\n",
              "    </tr>\n",
              "  </tbody>\n",
              "</table>\n",
              "<p>23481 rows × 4 columns</p>\n",
              "</div>"
            ],
            "text/plain": [
              "                                                   title  \\\n",
              "0       Donald Trump Sends Out Embarrassing New Year’...   \n",
              "1       Drunk Bragging Trump Staffer Started Russian ...   \n",
              "2       Sheriff David Clarke Becomes An Internet Joke...   \n",
              "3       Trump Is So Obsessed He Even Has Obama’s Name...   \n",
              "4       Pope Francis Just Called Out Donald Trump Dur...   \n",
              "...                                                  ...   \n",
              "23476  McPain: John McCain Furious That Iran Treated ...   \n",
              "23477  JUSTICE? Yahoo Settles E-mail Privacy Class-ac...   \n",
              "23478  Sunnistan: US and Allied ‘Safe Zone’ Plan to T...   \n",
              "23479  How to Blow $700 Million: Al Jazeera America F...   \n",
              "23480  10 U.S. Navy Sailors Held by Iranian Military ...   \n",
              "\n",
              "                                                    text      subject  \\\n",
              "0      Donald Trump just couldn t wish all Americans ...         News   \n",
              "1      House Intelligence Committee Chairman Devin Nu...         News   \n",
              "2      On Friday, it was revealed that former Milwauk...         News   \n",
              "3      On Christmas day, Donald Trump announced that ...         News   \n",
              "4      Pope Francis used his annual Christmas Day mes...         News   \n",
              "...                                                  ...          ...   \n",
              "23476  21st Century Wire says As 21WIRE reported earl...  Middle-east   \n",
              "23477  21st Century Wire says It s a familiar theme. ...  Middle-east   \n",
              "23478  Patrick Henningsen  21st Century WireRemember ...  Middle-east   \n",
              "23479  21st Century Wire says Al Jazeera America will...  Middle-east   \n",
              "23480  21st Century Wire says As 21WIRE predicted in ...  Middle-east   \n",
              "\n",
              "                    date  \n",
              "0      December 31, 2017  \n",
              "1      December 31, 2017  \n",
              "2      December 30, 2017  \n",
              "3      December 29, 2017  \n",
              "4      December 25, 2017  \n",
              "...                  ...  \n",
              "23476   January 16, 2016  \n",
              "23477   January 16, 2016  \n",
              "23478   January 15, 2016  \n",
              "23479   January 14, 2016  \n",
              "23480   January 12, 2016  \n",
              "\n",
              "[23481 rows x 4 columns]"
            ]
          },
          "execution_count": 6,
          "metadata": {},
          "output_type": "execute_result"
        }
      ],
      "source": [
        "fake"
      ],
      "id": "9__BkjhUstLQ"
    },
    {
      "cell_type": "code",
      "execution_count": null,
      "metadata": {
        "id": "GkdMZME5stLU",
        "outputId": "7902abe8-9220-475b-e314-d790c39bcf84"
      },
      "outputs": [
        {
          "data": {
            "text/html": [
              "<div>\n",
              "<style scoped>\n",
              "    .dataframe tbody tr th:only-of-type {\n",
              "        vertical-align: middle;\n",
              "    }\n",
              "\n",
              "    .dataframe tbody tr th {\n",
              "        vertical-align: top;\n",
              "    }\n",
              "\n",
              "    .dataframe thead th {\n",
              "        text-align: right;\n",
              "    }\n",
              "</style>\n",
              "<table border=\"1\" class=\"dataframe\">\n",
              "  <thead>\n",
              "    <tr style=\"text-align: right;\">\n",
              "      <th></th>\n",
              "      <th>title</th>\n",
              "      <th>text</th>\n",
              "      <th>subject</th>\n",
              "      <th>date</th>\n",
              "    </tr>\n",
              "  </thead>\n",
              "  <tbody>\n",
              "    <tr>\n",
              "      <th>0</th>\n",
              "      <td>As U.S. budget fight looms, Republicans flip t...</td>\n",
              "      <td>WASHINGTON (Reuters) - The head of a conservat...</td>\n",
              "      <td>politicsNews</td>\n",
              "      <td>December 31, 2017</td>\n",
              "    </tr>\n",
              "    <tr>\n",
              "      <th>1</th>\n",
              "      <td>U.S. military to accept transgender recruits o...</td>\n",
              "      <td>WASHINGTON (Reuters) - Transgender people will...</td>\n",
              "      <td>politicsNews</td>\n",
              "      <td>December 29, 2017</td>\n",
              "    </tr>\n",
              "    <tr>\n",
              "      <th>2</th>\n",
              "      <td>Senior U.S. Republican senator: 'Let Mr. Muell...</td>\n",
              "      <td>WASHINGTON (Reuters) - The special counsel inv...</td>\n",
              "      <td>politicsNews</td>\n",
              "      <td>December 31, 2017</td>\n",
              "    </tr>\n",
              "    <tr>\n",
              "      <th>3</th>\n",
              "      <td>FBI Russia probe helped by Australian diplomat...</td>\n",
              "      <td>WASHINGTON (Reuters) - Trump campaign adviser ...</td>\n",
              "      <td>politicsNews</td>\n",
              "      <td>December 30, 2017</td>\n",
              "    </tr>\n",
              "    <tr>\n",
              "      <th>4</th>\n",
              "      <td>Trump wants Postal Service to charge 'much mor...</td>\n",
              "      <td>SEATTLE/WASHINGTON (Reuters) - President Donal...</td>\n",
              "      <td>politicsNews</td>\n",
              "      <td>December 29, 2017</td>\n",
              "    </tr>\n",
              "    <tr>\n",
              "      <th>...</th>\n",
              "      <td>...</td>\n",
              "      <td>...</td>\n",
              "      <td>...</td>\n",
              "      <td>...</td>\n",
              "    </tr>\n",
              "    <tr>\n",
              "      <th>21412</th>\n",
              "      <td>'Fully committed' NATO backs new U.S. approach...</td>\n",
              "      <td>BRUSSELS (Reuters) - NATO allies on Tuesday we...</td>\n",
              "      <td>worldnews</td>\n",
              "      <td>August 22, 2017</td>\n",
              "    </tr>\n",
              "    <tr>\n",
              "      <th>21413</th>\n",
              "      <td>LexisNexis withdrew two products from Chinese ...</td>\n",
              "      <td>LONDON (Reuters) - LexisNexis, a provider of l...</td>\n",
              "      <td>worldnews</td>\n",
              "      <td>August 22, 2017</td>\n",
              "    </tr>\n",
              "    <tr>\n",
              "      <th>21414</th>\n",
              "      <td>Minsk cultural hub becomes haven from authorities</td>\n",
              "      <td>MINSK (Reuters) - In the shadow of disused Sov...</td>\n",
              "      <td>worldnews</td>\n",
              "      <td>August 22, 2017</td>\n",
              "    </tr>\n",
              "    <tr>\n",
              "      <th>21415</th>\n",
              "      <td>Vatican upbeat on possibility of Pope Francis ...</td>\n",
              "      <td>MOSCOW (Reuters) - Vatican Secretary of State ...</td>\n",
              "      <td>worldnews</td>\n",
              "      <td>August 22, 2017</td>\n",
              "    </tr>\n",
              "    <tr>\n",
              "      <th>21416</th>\n",
              "      <td>Indonesia to buy $1.14 billion worth of Russia...</td>\n",
              "      <td>JAKARTA (Reuters) - Indonesia will buy 11 Sukh...</td>\n",
              "      <td>worldnews</td>\n",
              "      <td>August 22, 2017</td>\n",
              "    </tr>\n",
              "  </tbody>\n",
              "</table>\n",
              "<p>21417 rows × 4 columns</p>\n",
              "</div>"
            ],
            "text/plain": [
              "                                                   title  \\\n",
              "0      As U.S. budget fight looms, Republicans flip t...   \n",
              "1      U.S. military to accept transgender recruits o...   \n",
              "2      Senior U.S. Republican senator: 'Let Mr. Muell...   \n",
              "3      FBI Russia probe helped by Australian diplomat...   \n",
              "4      Trump wants Postal Service to charge 'much mor...   \n",
              "...                                                  ...   \n",
              "21412  'Fully committed' NATO backs new U.S. approach...   \n",
              "21413  LexisNexis withdrew two products from Chinese ...   \n",
              "21414  Minsk cultural hub becomes haven from authorities   \n",
              "21415  Vatican upbeat on possibility of Pope Francis ...   \n",
              "21416  Indonesia to buy $1.14 billion worth of Russia...   \n",
              "\n",
              "                                                    text       subject  \\\n",
              "0      WASHINGTON (Reuters) - The head of a conservat...  politicsNews   \n",
              "1      WASHINGTON (Reuters) - Transgender people will...  politicsNews   \n",
              "2      WASHINGTON (Reuters) - The special counsel inv...  politicsNews   \n",
              "3      WASHINGTON (Reuters) - Trump campaign adviser ...  politicsNews   \n",
              "4      SEATTLE/WASHINGTON (Reuters) - President Donal...  politicsNews   \n",
              "...                                                  ...           ...   \n",
              "21412  BRUSSELS (Reuters) - NATO allies on Tuesday we...     worldnews   \n",
              "21413  LONDON (Reuters) - LexisNexis, a provider of l...     worldnews   \n",
              "21414  MINSK (Reuters) - In the shadow of disused Sov...     worldnews   \n",
              "21415  MOSCOW (Reuters) - Vatican Secretary of State ...     worldnews   \n",
              "21416  JAKARTA (Reuters) - Indonesia will buy 11 Sukh...     worldnews   \n",
              "\n",
              "                     date  \n",
              "0      December 31, 2017   \n",
              "1      December 29, 2017   \n",
              "2      December 31, 2017   \n",
              "3      December 30, 2017   \n",
              "4      December 29, 2017   \n",
              "...                   ...  \n",
              "21412    August 22, 2017   \n",
              "21413    August 22, 2017   \n",
              "21414    August 22, 2017   \n",
              "21415    August 22, 2017   \n",
              "21416    August 22, 2017   \n",
              "\n",
              "[21417 rows x 4 columns]"
            ]
          },
          "execution_count": 7,
          "metadata": {},
          "output_type": "execute_result"
        }
      ],
      "source": [
        "true"
      ],
      "id": "GkdMZME5stLU"
    },
    {
      "cell_type": "code",
      "execution_count": null,
      "metadata": {
        "id": "cCXUPjR5stLW",
        "outputId": "d647f5b2-97ad-4dfb-cf12-8126ca4a16cd"
      },
      "outputs": [
        {
          "name": "stdout",
          "output_type": "stream",
          "text": [
            "<class 'pandas.core.frame.DataFrame'>\n",
            "RangeIndex: 23481 entries, 0 to 23480\n",
            "Data columns (total 4 columns):\n",
            " #   Column   Non-Null Count  Dtype \n",
            "---  ------   --------------  ----- \n",
            " 0   title    23481 non-null  object\n",
            " 1   text     23481 non-null  object\n",
            " 2   subject  23481 non-null  object\n",
            " 3   date     23481 non-null  object\n",
            "dtypes: object(4)\n",
            "memory usage: 733.9+ KB\n"
          ]
        }
      ],
      "source": [
        "fake.info()"
      ],
      "id": "cCXUPjR5stLW"
    },
    {
      "cell_type": "code",
      "execution_count": null,
      "metadata": {
        "id": "0qUaAZD3stLZ",
        "outputId": "ef161a02-382d-421d-9f49-ed334831a2c6"
      },
      "outputs": [
        {
          "name": "stdout",
          "output_type": "stream",
          "text": [
            "<class 'pandas.core.frame.DataFrame'>\n",
            "RangeIndex: 21417 entries, 0 to 21416\n",
            "Data columns (total 4 columns):\n",
            " #   Column   Non-Null Count  Dtype \n",
            "---  ------   --------------  ----- \n",
            " 0   title    21417 non-null  object\n",
            " 1   text     21417 non-null  object\n",
            " 2   subject  21417 non-null  object\n",
            " 3   date     21417 non-null  object\n",
            "dtypes: object(4)\n",
            "memory usage: 669.4+ KB\n"
          ]
        }
      ],
      "source": [
        "true.info()"
      ],
      "id": "0qUaAZD3stLZ"
    },
    {
      "cell_type": "code",
      "execution_count": null,
      "metadata": {
        "id": "ggVPJD9FstLb",
        "outputId": "4bb56d3a-f9fc-49b8-d7a6-0787380b1fc8"
      },
      "outputs": [
        {
          "data": {
            "text/plain": [
              "News               9050\n",
              "politics           6841\n",
              "left-news          4459\n",
              "Government News    1570\n",
              "US_News             783\n",
              "Middle-east         778\n",
              "Name: subject, dtype: int64"
            ]
          },
          "execution_count": 10,
          "metadata": {},
          "output_type": "execute_result"
        }
      ],
      "source": [
        "fake.subject.value_counts()"
      ],
      "id": "ggVPJD9FstLb"
    },
    {
      "cell_type": "code",
      "execution_count": null,
      "metadata": {
        "id": "tAO0E2ufstLe",
        "outputId": "c119c7cb-291c-435c-f3a1-410cb91e4dab"
      },
      "outputs": [
        {
          "data": {
            "text/plain": [
              "politicsNews    11272\n",
              "worldnews       10145\n",
              "Name: subject, dtype: int64"
            ]
          },
          "execution_count": 11,
          "metadata": {},
          "output_type": "execute_result"
        }
      ],
      "source": [
        "true.subject.value_counts()"
      ],
      "id": "tAO0E2ufstLe"
    },
    {
      "cell_type": "code",
      "execution_count": null,
      "metadata": {
        "id": "a-LH4PBystLg"
      },
      "outputs": [],
      "source": [
        "fake['target']=0\n",
        "true['target']=1"
      ],
      "id": "a-LH4PBystLg"
    },
    {
      "cell_type": "code",
      "execution_count": null,
      "metadata": {
        "id": "PcQZiVkqstLi",
        "outputId": "82773fde-fd0a-4d12-d378-1e87cc8a4cb4"
      },
      "outputs": [
        {
          "data": {
            "text/html": [
              "<div>\n",
              "<style scoped>\n",
              "    .dataframe tbody tr th:only-of-type {\n",
              "        vertical-align: middle;\n",
              "    }\n",
              "\n",
              "    .dataframe tbody tr th {\n",
              "        vertical-align: top;\n",
              "    }\n",
              "\n",
              "    .dataframe thead th {\n",
              "        text-align: right;\n",
              "    }\n",
              "</style>\n",
              "<table border=\"1\" class=\"dataframe\">\n",
              "  <thead>\n",
              "    <tr style=\"text-align: right;\">\n",
              "      <th></th>\n",
              "      <th>title</th>\n",
              "      <th>text</th>\n",
              "      <th>subject</th>\n",
              "      <th>date</th>\n",
              "      <th>target</th>\n",
              "    </tr>\n",
              "  </thead>\n",
              "  <tbody>\n",
              "    <tr>\n",
              "      <th>0</th>\n",
              "      <td>Donald Trump Sends Out Embarrassing New Year’...</td>\n",
              "      <td>Donald Trump just couldn t wish all Americans ...</td>\n",
              "      <td>News</td>\n",
              "      <td>December 31, 2017</td>\n",
              "      <td>0</td>\n",
              "    </tr>\n",
              "    <tr>\n",
              "      <th>1</th>\n",
              "      <td>Drunk Bragging Trump Staffer Started Russian ...</td>\n",
              "      <td>House Intelligence Committee Chairman Devin Nu...</td>\n",
              "      <td>News</td>\n",
              "      <td>December 31, 2017</td>\n",
              "      <td>0</td>\n",
              "    </tr>\n",
              "    <tr>\n",
              "      <th>2</th>\n",
              "      <td>Sheriff David Clarke Becomes An Internet Joke...</td>\n",
              "      <td>On Friday, it was revealed that former Milwauk...</td>\n",
              "      <td>News</td>\n",
              "      <td>December 30, 2017</td>\n",
              "      <td>0</td>\n",
              "    </tr>\n",
              "    <tr>\n",
              "      <th>3</th>\n",
              "      <td>Trump Is So Obsessed He Even Has Obama’s Name...</td>\n",
              "      <td>On Christmas day, Donald Trump announced that ...</td>\n",
              "      <td>News</td>\n",
              "      <td>December 29, 2017</td>\n",
              "      <td>0</td>\n",
              "    </tr>\n",
              "    <tr>\n",
              "      <th>4</th>\n",
              "      <td>Pope Francis Just Called Out Donald Trump Dur...</td>\n",
              "      <td>Pope Francis used his annual Christmas Day mes...</td>\n",
              "      <td>News</td>\n",
              "      <td>December 25, 2017</td>\n",
              "      <td>0</td>\n",
              "    </tr>\n",
              "  </tbody>\n",
              "</table>\n",
              "</div>"
            ],
            "text/plain": [
              "                                               title  \\\n",
              "0   Donald Trump Sends Out Embarrassing New Year’...   \n",
              "1   Drunk Bragging Trump Staffer Started Russian ...   \n",
              "2   Sheriff David Clarke Becomes An Internet Joke...   \n",
              "3   Trump Is So Obsessed He Even Has Obama’s Name...   \n",
              "4   Pope Francis Just Called Out Donald Trump Dur...   \n",
              "\n",
              "                                                text subject  \\\n",
              "0  Donald Trump just couldn t wish all Americans ...    News   \n",
              "1  House Intelligence Committee Chairman Devin Nu...    News   \n",
              "2  On Friday, it was revealed that former Milwauk...    News   \n",
              "3  On Christmas day, Donald Trump announced that ...    News   \n",
              "4  Pope Francis used his annual Christmas Day mes...    News   \n",
              "\n",
              "                date  target  \n",
              "0  December 31, 2017       0  \n",
              "1  December 31, 2017       0  \n",
              "2  December 30, 2017       0  \n",
              "3  December 29, 2017       0  \n",
              "4  December 25, 2017       0  "
            ]
          },
          "execution_count": 13,
          "metadata": {},
          "output_type": "execute_result"
        }
      ],
      "source": [
        "fake.head()"
      ],
      "id": "PcQZiVkqstLi"
    },
    {
      "cell_type": "code",
      "execution_count": null,
      "metadata": {
        "id": "Czo1cGfxstLj",
        "outputId": "664c4030-039b-49fa-c0c9-02e88c3a9450"
      },
      "outputs": [
        {
          "data": {
            "text/html": [
              "<div>\n",
              "<style scoped>\n",
              "    .dataframe tbody tr th:only-of-type {\n",
              "        vertical-align: middle;\n",
              "    }\n",
              "\n",
              "    .dataframe tbody tr th {\n",
              "        vertical-align: top;\n",
              "    }\n",
              "\n",
              "    .dataframe thead th {\n",
              "        text-align: right;\n",
              "    }\n",
              "</style>\n",
              "<table border=\"1\" class=\"dataframe\">\n",
              "  <thead>\n",
              "    <tr style=\"text-align: right;\">\n",
              "      <th></th>\n",
              "      <th>title</th>\n",
              "      <th>text</th>\n",
              "      <th>subject</th>\n",
              "      <th>date</th>\n",
              "      <th>target</th>\n",
              "    </tr>\n",
              "  </thead>\n",
              "  <tbody>\n",
              "    <tr>\n",
              "      <th>0</th>\n",
              "      <td>As U.S. budget fight looms, Republicans flip t...</td>\n",
              "      <td>WASHINGTON (Reuters) - The head of a conservat...</td>\n",
              "      <td>politicsNews</td>\n",
              "      <td>December 31, 2017</td>\n",
              "      <td>1</td>\n",
              "    </tr>\n",
              "    <tr>\n",
              "      <th>1</th>\n",
              "      <td>U.S. military to accept transgender recruits o...</td>\n",
              "      <td>WASHINGTON (Reuters) - Transgender people will...</td>\n",
              "      <td>politicsNews</td>\n",
              "      <td>December 29, 2017</td>\n",
              "      <td>1</td>\n",
              "    </tr>\n",
              "    <tr>\n",
              "      <th>2</th>\n",
              "      <td>Senior U.S. Republican senator: 'Let Mr. Muell...</td>\n",
              "      <td>WASHINGTON (Reuters) - The special counsel inv...</td>\n",
              "      <td>politicsNews</td>\n",
              "      <td>December 31, 2017</td>\n",
              "      <td>1</td>\n",
              "    </tr>\n",
              "    <tr>\n",
              "      <th>3</th>\n",
              "      <td>FBI Russia probe helped by Australian diplomat...</td>\n",
              "      <td>WASHINGTON (Reuters) - Trump campaign adviser ...</td>\n",
              "      <td>politicsNews</td>\n",
              "      <td>December 30, 2017</td>\n",
              "      <td>1</td>\n",
              "    </tr>\n",
              "    <tr>\n",
              "      <th>4</th>\n",
              "      <td>Trump wants Postal Service to charge 'much mor...</td>\n",
              "      <td>SEATTLE/WASHINGTON (Reuters) - President Donal...</td>\n",
              "      <td>politicsNews</td>\n",
              "      <td>December 29, 2017</td>\n",
              "      <td>1</td>\n",
              "    </tr>\n",
              "  </tbody>\n",
              "</table>\n",
              "</div>"
            ],
            "text/plain": [
              "                                               title  \\\n",
              "0  As U.S. budget fight looms, Republicans flip t...   \n",
              "1  U.S. military to accept transgender recruits o...   \n",
              "2  Senior U.S. Republican senator: 'Let Mr. Muell...   \n",
              "3  FBI Russia probe helped by Australian diplomat...   \n",
              "4  Trump wants Postal Service to charge 'much mor...   \n",
              "\n",
              "                                                text       subject  \\\n",
              "0  WASHINGTON (Reuters) - The head of a conservat...  politicsNews   \n",
              "1  WASHINGTON (Reuters) - Transgender people will...  politicsNews   \n",
              "2  WASHINGTON (Reuters) - The special counsel inv...  politicsNews   \n",
              "3  WASHINGTON (Reuters) - Trump campaign adviser ...  politicsNews   \n",
              "4  SEATTLE/WASHINGTON (Reuters) - President Donal...  politicsNews   \n",
              "\n",
              "                 date  target  \n",
              "0  December 31, 2017        1  \n",
              "1  December 29, 2017        1  \n",
              "2  December 31, 2017        1  \n",
              "3  December 30, 2017        1  \n",
              "4  December 29, 2017        1  "
            ]
          },
          "execution_count": 14,
          "metadata": {},
          "output_type": "execute_result"
        }
      ],
      "source": [
        "true.head()"
      ],
      "id": "Czo1cGfxstLj"
    },
    {
      "cell_type": "code",
      "execution_count": null,
      "metadata": {
        "id": "m9cClqmbstLl"
      },
      "outputs": [],
      "source": [
        "data=pd.concat([fake,true],axis=0)"
      ],
      "id": "m9cClqmbstLl"
    },
    {
      "cell_type": "code",
      "execution_count": null,
      "metadata": {
        "id": "tP1RIziwstLm",
        "outputId": "b20af82d-82a7-4196-a2b3-eea2d3b90957"
      },
      "outputs": [
        {
          "data": {
            "text/html": [
              "<div>\n",
              "<style scoped>\n",
              "    .dataframe tbody tr th:only-of-type {\n",
              "        vertical-align: middle;\n",
              "    }\n",
              "\n",
              "    .dataframe tbody tr th {\n",
              "        vertical-align: top;\n",
              "    }\n",
              "\n",
              "    .dataframe thead th {\n",
              "        text-align: right;\n",
              "    }\n",
              "</style>\n",
              "<table border=\"1\" class=\"dataframe\">\n",
              "  <thead>\n",
              "    <tr style=\"text-align: right;\">\n",
              "      <th></th>\n",
              "      <th>title</th>\n",
              "      <th>text</th>\n",
              "      <th>subject</th>\n",
              "      <th>date</th>\n",
              "      <th>target</th>\n",
              "    </tr>\n",
              "  </thead>\n",
              "  <tbody>\n",
              "    <tr>\n",
              "      <th>0</th>\n",
              "      <td>Donald Trump Sends Out Embarrassing New Year’...</td>\n",
              "      <td>Donald Trump just couldn t wish all Americans ...</td>\n",
              "      <td>News</td>\n",
              "      <td>December 31, 2017</td>\n",
              "      <td>0</td>\n",
              "    </tr>\n",
              "    <tr>\n",
              "      <th>1</th>\n",
              "      <td>Drunk Bragging Trump Staffer Started Russian ...</td>\n",
              "      <td>House Intelligence Committee Chairman Devin Nu...</td>\n",
              "      <td>News</td>\n",
              "      <td>December 31, 2017</td>\n",
              "      <td>0</td>\n",
              "    </tr>\n",
              "    <tr>\n",
              "      <th>2</th>\n",
              "      <td>Sheriff David Clarke Becomes An Internet Joke...</td>\n",
              "      <td>On Friday, it was revealed that former Milwauk...</td>\n",
              "      <td>News</td>\n",
              "      <td>December 30, 2017</td>\n",
              "      <td>0</td>\n",
              "    </tr>\n",
              "    <tr>\n",
              "      <th>3</th>\n",
              "      <td>Trump Is So Obsessed He Even Has Obama’s Name...</td>\n",
              "      <td>On Christmas day, Donald Trump announced that ...</td>\n",
              "      <td>News</td>\n",
              "      <td>December 29, 2017</td>\n",
              "      <td>0</td>\n",
              "    </tr>\n",
              "    <tr>\n",
              "      <th>4</th>\n",
              "      <td>Pope Francis Just Called Out Donald Trump Dur...</td>\n",
              "      <td>Pope Francis used his annual Christmas Day mes...</td>\n",
              "      <td>News</td>\n",
              "      <td>December 25, 2017</td>\n",
              "      <td>0</td>\n",
              "    </tr>\n",
              "    <tr>\n",
              "      <th>...</th>\n",
              "      <td>...</td>\n",
              "      <td>...</td>\n",
              "      <td>...</td>\n",
              "      <td>...</td>\n",
              "      <td>...</td>\n",
              "    </tr>\n",
              "    <tr>\n",
              "      <th>21412</th>\n",
              "      <td>'Fully committed' NATO backs new U.S. approach...</td>\n",
              "      <td>BRUSSELS (Reuters) - NATO allies on Tuesday we...</td>\n",
              "      <td>worldnews</td>\n",
              "      <td>August 22, 2017</td>\n",
              "      <td>1</td>\n",
              "    </tr>\n",
              "    <tr>\n",
              "      <th>21413</th>\n",
              "      <td>LexisNexis withdrew two products from Chinese ...</td>\n",
              "      <td>LONDON (Reuters) - LexisNexis, a provider of l...</td>\n",
              "      <td>worldnews</td>\n",
              "      <td>August 22, 2017</td>\n",
              "      <td>1</td>\n",
              "    </tr>\n",
              "    <tr>\n",
              "      <th>21414</th>\n",
              "      <td>Minsk cultural hub becomes haven from authorities</td>\n",
              "      <td>MINSK (Reuters) - In the shadow of disused Sov...</td>\n",
              "      <td>worldnews</td>\n",
              "      <td>August 22, 2017</td>\n",
              "      <td>1</td>\n",
              "    </tr>\n",
              "    <tr>\n",
              "      <th>21415</th>\n",
              "      <td>Vatican upbeat on possibility of Pope Francis ...</td>\n",
              "      <td>MOSCOW (Reuters) - Vatican Secretary of State ...</td>\n",
              "      <td>worldnews</td>\n",
              "      <td>August 22, 2017</td>\n",
              "      <td>1</td>\n",
              "    </tr>\n",
              "    <tr>\n",
              "      <th>21416</th>\n",
              "      <td>Indonesia to buy $1.14 billion worth of Russia...</td>\n",
              "      <td>JAKARTA (Reuters) - Indonesia will buy 11 Sukh...</td>\n",
              "      <td>worldnews</td>\n",
              "      <td>August 22, 2017</td>\n",
              "      <td>1</td>\n",
              "    </tr>\n",
              "  </tbody>\n",
              "</table>\n",
              "<p>44898 rows × 5 columns</p>\n",
              "</div>"
            ],
            "text/plain": [
              "                                                   title  \\\n",
              "0       Donald Trump Sends Out Embarrassing New Year’...   \n",
              "1       Drunk Bragging Trump Staffer Started Russian ...   \n",
              "2       Sheriff David Clarke Becomes An Internet Joke...   \n",
              "3       Trump Is So Obsessed He Even Has Obama’s Name...   \n",
              "4       Pope Francis Just Called Out Donald Trump Dur...   \n",
              "...                                                  ...   \n",
              "21412  'Fully committed' NATO backs new U.S. approach...   \n",
              "21413  LexisNexis withdrew two products from Chinese ...   \n",
              "21414  Minsk cultural hub becomes haven from authorities   \n",
              "21415  Vatican upbeat on possibility of Pope Francis ...   \n",
              "21416  Indonesia to buy $1.14 billion worth of Russia...   \n",
              "\n",
              "                                                    text    subject  \\\n",
              "0      Donald Trump just couldn t wish all Americans ...       News   \n",
              "1      House Intelligence Committee Chairman Devin Nu...       News   \n",
              "2      On Friday, it was revealed that former Milwauk...       News   \n",
              "3      On Christmas day, Donald Trump announced that ...       News   \n",
              "4      Pope Francis used his annual Christmas Day mes...       News   \n",
              "...                                                  ...        ...   \n",
              "21412  BRUSSELS (Reuters) - NATO allies on Tuesday we...  worldnews   \n",
              "21413  LONDON (Reuters) - LexisNexis, a provider of l...  worldnews   \n",
              "21414  MINSK (Reuters) - In the shadow of disused Sov...  worldnews   \n",
              "21415  MOSCOW (Reuters) - Vatican Secretary of State ...  worldnews   \n",
              "21416  JAKARTA (Reuters) - Indonesia will buy 11 Sukh...  worldnews   \n",
              "\n",
              "                    date  target  \n",
              "0      December 31, 2017       0  \n",
              "1      December 31, 2017       0  \n",
              "2      December 30, 2017       0  \n",
              "3      December 29, 2017       0  \n",
              "4      December 25, 2017       0  \n",
              "...                  ...     ...  \n",
              "21412   August 22, 2017        1  \n",
              "21413   August 22, 2017        1  \n",
              "21414   August 22, 2017        1  \n",
              "21415   August 22, 2017        1  \n",
              "21416   August 22, 2017        1  \n",
              "\n",
              "[44898 rows x 5 columns]"
            ]
          },
          "execution_count": 16,
          "metadata": {},
          "output_type": "execute_result"
        }
      ],
      "source": [
        "data"
      ],
      "id": "tP1RIziwstLm"
    },
    {
      "cell_type": "code",
      "execution_count": null,
      "metadata": {
        "id": "LuRbMqPRstLo"
      },
      "outputs": [],
      "source": [
        "# removing columns which are not needed in the data\n",
        "data=data.drop(['subject','date','title'],axis=1)"
      ],
      "id": "LuRbMqPRstLo"
    },
    {
      "cell_type": "code",
      "execution_count": null,
      "metadata": {
        "id": "rdOh-Mt_stLp",
        "outputId": "b6d2b45e-805e-4f9d-df2d-47431499efcd"
      },
      "outputs": [
        {
          "data": {
            "text/plain": [
              "Index(['text', 'target'], dtype='object')"
            ]
          },
          "execution_count": 18,
          "metadata": {},
          "output_type": "execute_result"
        }
      ],
      "source": [
        "data.columns"
      ],
      "id": "rdOh-Mt_stLp"
    },
    {
      "cell_type": "code",
      "execution_count": null,
      "metadata": {
        "id": "PlazjKrtstLq",
        "outputId": "83eba761-b9f3-4529-f4d9-a0f57fb59637"
      },
      "outputs": [
        {
          "data": {
            "text/html": [
              "<div>\n",
              "<style scoped>\n",
              "    .dataframe tbody tr th:only-of-type {\n",
              "        vertical-align: middle;\n",
              "    }\n",
              "\n",
              "    .dataframe tbody tr th {\n",
              "        vertical-align: top;\n",
              "    }\n",
              "\n",
              "    .dataframe thead th {\n",
              "        text-align: right;\n",
              "    }\n",
              "</style>\n",
              "<table border=\"1\" class=\"dataframe\">\n",
              "  <thead>\n",
              "    <tr style=\"text-align: right;\">\n",
              "      <th></th>\n",
              "      <th>text</th>\n",
              "      <th>target</th>\n",
              "    </tr>\n",
              "  </thead>\n",
              "  <tbody>\n",
              "    <tr>\n",
              "      <th>0</th>\n",
              "      <td>Donald Trump just couldn t wish all Americans ...</td>\n",
              "      <td>0</td>\n",
              "    </tr>\n",
              "    <tr>\n",
              "      <th>1</th>\n",
              "      <td>House Intelligence Committee Chairman Devin Nu...</td>\n",
              "      <td>0</td>\n",
              "    </tr>\n",
              "    <tr>\n",
              "      <th>2</th>\n",
              "      <td>On Friday, it was revealed that former Milwauk...</td>\n",
              "      <td>0</td>\n",
              "    </tr>\n",
              "    <tr>\n",
              "      <th>3</th>\n",
              "      <td>On Christmas day, Donald Trump announced that ...</td>\n",
              "      <td>0</td>\n",
              "    </tr>\n",
              "    <tr>\n",
              "      <th>4</th>\n",
              "      <td>Pope Francis used his annual Christmas Day mes...</td>\n",
              "      <td>0</td>\n",
              "    </tr>\n",
              "    <tr>\n",
              "      <th>...</th>\n",
              "      <td>...</td>\n",
              "      <td>...</td>\n",
              "    </tr>\n",
              "    <tr>\n",
              "      <th>21412</th>\n",
              "      <td>BRUSSELS (Reuters) - NATO allies on Tuesday we...</td>\n",
              "      <td>1</td>\n",
              "    </tr>\n",
              "    <tr>\n",
              "      <th>21413</th>\n",
              "      <td>LONDON (Reuters) - LexisNexis, a provider of l...</td>\n",
              "      <td>1</td>\n",
              "    </tr>\n",
              "    <tr>\n",
              "      <th>21414</th>\n",
              "      <td>MINSK (Reuters) - In the shadow of disused Sov...</td>\n",
              "      <td>1</td>\n",
              "    </tr>\n",
              "    <tr>\n",
              "      <th>21415</th>\n",
              "      <td>MOSCOW (Reuters) - Vatican Secretary of State ...</td>\n",
              "      <td>1</td>\n",
              "    </tr>\n",
              "    <tr>\n",
              "      <th>21416</th>\n",
              "      <td>JAKARTA (Reuters) - Indonesia will buy 11 Sukh...</td>\n",
              "      <td>1</td>\n",
              "    </tr>\n",
              "  </tbody>\n",
              "</table>\n",
              "<p>44898 rows × 2 columns</p>\n",
              "</div>"
            ],
            "text/plain": [
              "                                                    text  target\n",
              "0      Donald Trump just couldn t wish all Americans ...       0\n",
              "1      House Intelligence Committee Chairman Devin Nu...       0\n",
              "2      On Friday, it was revealed that former Milwauk...       0\n",
              "3      On Christmas day, Donald Trump announced that ...       0\n",
              "4      Pope Francis used his annual Christmas Day mes...       0\n",
              "...                                                  ...     ...\n",
              "21412  BRUSSELS (Reuters) - NATO allies on Tuesday we...       1\n",
              "21413  LONDON (Reuters) - LexisNexis, a provider of l...       1\n",
              "21414  MINSK (Reuters) - In the shadow of disused Sov...       1\n",
              "21415  MOSCOW (Reuters) - Vatican Secretary of State ...       1\n",
              "21416  JAKARTA (Reuters) - Indonesia will buy 11 Sukh...       1\n",
              "\n",
              "[44898 rows x 2 columns]"
            ]
          },
          "execution_count": 19,
          "metadata": {},
          "output_type": "execute_result"
        }
      ],
      "source": [
        "data"
      ],
      "id": "PlazjKrtstLq"
    },
    {
      "cell_type": "markdown",
      "metadata": {
        "id": "4FB3sv_PstLs"
      },
      "source": [
        "# Text Pre-Processing:-"
      ],
      "id": "4FB3sv_PstLs"
    },
    {
      "cell_type": "markdown",
      "metadata": {
        "id": "BuCQD31vstLt"
      },
      "source": [
        "# Tokenisation:-"
      ],
      "id": "BuCQD31vstLt"
    },
    {
      "cell_type": "code",
      "execution_count": null,
      "metadata": {
        "id": "ROhfiPijstLu"
      },
      "outputs": [],
      "source": [
        "from nltk.tokenize import word_tokenize"
      ],
      "id": "ROhfiPijstLu"
    },
    {
      "cell_type": "code",
      "execution_count": null,
      "metadata": {
        "id": "6wgjAs1TstLv"
      },
      "outputs": [],
      "source": [
        "data['text']=data['text'].apply(word_tokenize)"
      ],
      "id": "6wgjAs1TstLv"
    },
    {
      "cell_type": "code",
      "execution_count": null,
      "metadata": {
        "id": "62BbmQUGstLw",
        "outputId": "627c1415-2734-42f1-8f40-efd6f7a8995b"
      },
      "outputs": [
        {
          "data": {
            "text/html": [
              "<div>\n",
              "<style scoped>\n",
              "    .dataframe tbody tr th:only-of-type {\n",
              "        vertical-align: middle;\n",
              "    }\n",
              "\n",
              "    .dataframe tbody tr th {\n",
              "        vertical-align: top;\n",
              "    }\n",
              "\n",
              "    .dataframe thead th {\n",
              "        text-align: right;\n",
              "    }\n",
              "</style>\n",
              "<table border=\"1\" class=\"dataframe\">\n",
              "  <thead>\n",
              "    <tr style=\"text-align: right;\">\n",
              "      <th></th>\n",
              "      <th>text</th>\n",
              "      <th>target</th>\n",
              "    </tr>\n",
              "  </thead>\n",
              "  <tbody>\n",
              "    <tr>\n",
              "      <th>0</th>\n",
              "      <td>[Donald, Trump, just, couldn, t, wish, all, Am...</td>\n",
              "      <td>0</td>\n",
              "    </tr>\n",
              "    <tr>\n",
              "      <th>1</th>\n",
              "      <td>[House, Intelligence, Committee, Chairman, Dev...</td>\n",
              "      <td>0</td>\n",
              "    </tr>\n",
              "    <tr>\n",
              "      <th>2</th>\n",
              "      <td>[On, Friday, ,, it, was, revealed, that, forme...</td>\n",
              "      <td>0</td>\n",
              "    </tr>\n",
              "    <tr>\n",
              "      <th>3</th>\n",
              "      <td>[On, Christmas, day, ,, Donald, Trump, announc...</td>\n",
              "      <td>0</td>\n",
              "    </tr>\n",
              "    <tr>\n",
              "      <th>4</th>\n",
              "      <td>[Pope, Francis, used, his, annual, Christmas, ...</td>\n",
              "      <td>0</td>\n",
              "    </tr>\n",
              "    <tr>\n",
              "      <th>5</th>\n",
              "      <td>[The, number, of, cases, of, cops, brutalizing...</td>\n",
              "      <td>0</td>\n",
              "    </tr>\n",
              "    <tr>\n",
              "      <th>6</th>\n",
              "      <td>[Donald, Trump, spent, a, good, portion, of, h...</td>\n",
              "      <td>0</td>\n",
              "    </tr>\n",
              "    <tr>\n",
              "      <th>7</th>\n",
              "      <td>[In, the, wake, of, yet, another, court, decis...</td>\n",
              "      <td>0</td>\n",
              "    </tr>\n",
              "    <tr>\n",
              "      <th>8</th>\n",
              "      <td>[Many, people, have, raised, the, alarm, regar...</td>\n",
              "      <td>0</td>\n",
              "    </tr>\n",
              "    <tr>\n",
              "      <th>9</th>\n",
              "      <td>[Just, when, you, might, have, thought, we, d,...</td>\n",
              "      <td>0</td>\n",
              "    </tr>\n",
              "  </tbody>\n",
              "</table>\n",
              "</div>"
            ],
            "text/plain": [
              "                                                text  target\n",
              "0  [Donald, Trump, just, couldn, t, wish, all, Am...       0\n",
              "1  [House, Intelligence, Committee, Chairman, Dev...       0\n",
              "2  [On, Friday, ,, it, was, revealed, that, forme...       0\n",
              "3  [On, Christmas, day, ,, Donald, Trump, announc...       0\n",
              "4  [Pope, Francis, used, his, annual, Christmas, ...       0\n",
              "5  [The, number, of, cases, of, cops, brutalizing...       0\n",
              "6  [Donald, Trump, spent, a, good, portion, of, h...       0\n",
              "7  [In, the, wake, of, yet, another, court, decis...       0\n",
              "8  [Many, people, have, raised, the, alarm, regar...       0\n",
              "9  [Just, when, you, might, have, thought, we, d,...       0"
            ]
          },
          "execution_count": 22,
          "metadata": {},
          "output_type": "execute_result"
        }
      ],
      "source": [
        "data.head(10)"
      ],
      "id": "62BbmQUGstLw"
    },
    {
      "cell_type": "markdown",
      "metadata": {
        "id": "l4Ls4JM0stLx"
      },
      "source": [
        "# Stemming:-"
      ],
      "id": "l4Ls4JM0stLx"
    },
    {
      "cell_type": "code",
      "execution_count": null,
      "metadata": {
        "id": "4jv3tEdustLx"
      },
      "outputs": [],
      "source": [
        "from nltk.stem.snowball import SnowballStemmer\n",
        "porter=SnowballStemmer(\"english\")"
      ],
      "id": "4jv3tEdustLx"
    },
    {
      "cell_type": "code",
      "execution_count": null,
      "metadata": {
        "id": "m0EcCMGKstLz"
      },
      "outputs": [],
      "source": [
        "def stem_it(text):\n",
        "    return [porter.stem(word) for word in text]"
      ],
      "id": "m0EcCMGKstLz"
    },
    {
      "cell_type": "code",
      "execution_count": null,
      "metadata": {
        "id": "tfg0eK3AstLz"
      },
      "outputs": [],
      "source": [
        "data['text']=data['text'].apply(stem_it)"
      ],
      "id": "tfg0eK3AstLz"
    },
    {
      "cell_type": "code",
      "execution_count": null,
      "metadata": {
        "id": "Emp-uj9CstL0",
        "outputId": "9785bcb8-250e-4639-d847-d1b8f9230d08"
      },
      "outputs": [
        {
          "data": {
            "text/html": [
              "<div>\n",
              "<style scoped>\n",
              "    .dataframe tbody tr th:only-of-type {\n",
              "        vertical-align: middle;\n",
              "    }\n",
              "\n",
              "    .dataframe tbody tr th {\n",
              "        vertical-align: top;\n",
              "    }\n",
              "\n",
              "    .dataframe thead th {\n",
              "        text-align: right;\n",
              "    }\n",
              "</style>\n",
              "<table border=\"1\" class=\"dataframe\">\n",
              "  <thead>\n",
              "    <tr style=\"text-align: right;\">\n",
              "      <th></th>\n",
              "      <th>text</th>\n",
              "      <th>target</th>\n",
              "    </tr>\n",
              "  </thead>\n",
              "  <tbody>\n",
              "    <tr>\n",
              "      <th>0</th>\n",
              "      <td>[donald, trump, just, couldn, t, wish, all, am...</td>\n",
              "      <td>0</td>\n",
              "    </tr>\n",
              "    <tr>\n",
              "      <th>1</th>\n",
              "      <td>[hous, intellig, committe, chairman, devin, nu...</td>\n",
              "      <td>0</td>\n",
              "    </tr>\n",
              "    <tr>\n",
              "      <th>2</th>\n",
              "      <td>[on, friday, ,, it, was, reveal, that, former,...</td>\n",
              "      <td>0</td>\n",
              "    </tr>\n",
              "    <tr>\n",
              "      <th>3</th>\n",
              "      <td>[on, christma, day, ,, donald, trump, announc,...</td>\n",
              "      <td>0</td>\n",
              "    </tr>\n",
              "    <tr>\n",
              "      <th>4</th>\n",
              "      <td>[pope, franci, use, his, annual, christma, day...</td>\n",
              "      <td>0</td>\n",
              "    </tr>\n",
              "    <tr>\n",
              "      <th>...</th>\n",
              "      <td>...</td>\n",
              "      <td>...</td>\n",
              "    </tr>\n",
              "    <tr>\n",
              "      <th>21412</th>\n",
              "      <td>[brussel, (, reuter, ), -, nato, alli, on, tue...</td>\n",
              "      <td>1</td>\n",
              "    </tr>\n",
              "    <tr>\n",
              "      <th>21413</th>\n",
              "      <td>[london, (, reuter, ), -, lexisnexi, ,, a, pro...</td>\n",
              "      <td>1</td>\n",
              "    </tr>\n",
              "    <tr>\n",
              "      <th>21414</th>\n",
              "      <td>[minsk, (, reuter, ), -, in, the, shadow, of, ...</td>\n",
              "      <td>1</td>\n",
              "    </tr>\n",
              "    <tr>\n",
              "      <th>21415</th>\n",
              "      <td>[moscow, (, reuter, ), -, vatican, secretari, ...</td>\n",
              "      <td>1</td>\n",
              "    </tr>\n",
              "    <tr>\n",
              "      <th>21416</th>\n",
              "      <td>[jakarta, (, reuter, ), -, indonesia, will, bu...</td>\n",
              "      <td>1</td>\n",
              "    </tr>\n",
              "  </tbody>\n",
              "</table>\n",
              "<p>44898 rows × 2 columns</p>\n",
              "</div>"
            ],
            "text/plain": [
              "                                                    text  target\n",
              "0      [donald, trump, just, couldn, t, wish, all, am...       0\n",
              "1      [hous, intellig, committe, chairman, devin, nu...       0\n",
              "2      [on, friday, ,, it, was, reveal, that, former,...       0\n",
              "3      [on, christma, day, ,, donald, trump, announc,...       0\n",
              "4      [pope, franci, use, his, annual, christma, day...       0\n",
              "...                                                  ...     ...\n",
              "21412  [brussel, (, reuter, ), -, nato, alli, on, tue...       1\n",
              "21413  [london, (, reuter, ), -, lexisnexi, ,, a, pro...       1\n",
              "21414  [minsk, (, reuter, ), -, in, the, shadow, of, ...       1\n",
              "21415  [moscow, (, reuter, ), -, vatican, secretari, ...       1\n",
              "21416  [jakarta, (, reuter, ), -, indonesia, will, bu...       1\n",
              "\n",
              "[44898 rows x 2 columns]"
            ]
          },
          "execution_count": 26,
          "metadata": {},
          "output_type": "execute_result"
        }
      ],
      "source": [
        "data"
      ],
      "id": "Emp-uj9CstL0"
    },
    {
      "cell_type": "markdown",
      "metadata": {
        "id": "RvnYgkR3stL1"
      },
      "source": [
        "# Stopword Removal:-"
      ],
      "id": "RvnYgkR3stL1"
    },
    {
      "cell_type": "code",
      "execution_count": null,
      "metadata": {
        "id": "tIgg3XBOstL2"
      },
      "outputs": [],
      "source": [
        "def stop_it(t):\n",
        "    dt=[word for word in t if len(word)>2]\n",
        "    return dt"
      ],
      "id": "tIgg3XBOstL2"
    },
    {
      "cell_type": "code",
      "execution_count": null,
      "metadata": {
        "id": "K2f3wzenstL3"
      },
      "outputs": [],
      "source": [
        "data['text']=data['text'].apply(stop_it)"
      ],
      "id": "K2f3wzenstL3"
    },
    {
      "cell_type": "code",
      "execution_count": null,
      "metadata": {
        "id": "Zfr_qU6_stL3",
        "outputId": "170df188-f4f4-4fdf-d13a-b4df5b557833"
      },
      "outputs": [
        {
          "data": {
            "text/html": [
              "<div>\n",
              "<style scoped>\n",
              "    .dataframe tbody tr th:only-of-type {\n",
              "        vertical-align: middle;\n",
              "    }\n",
              "\n",
              "    .dataframe tbody tr th {\n",
              "        vertical-align: top;\n",
              "    }\n",
              "\n",
              "    .dataframe thead th {\n",
              "        text-align: right;\n",
              "    }\n",
              "</style>\n",
              "<table border=\"1\" class=\"dataframe\">\n",
              "  <thead>\n",
              "    <tr style=\"text-align: right;\">\n",
              "      <th></th>\n",
              "      <th>text</th>\n",
              "      <th>target</th>\n",
              "    </tr>\n",
              "  </thead>\n",
              "  <tbody>\n",
              "    <tr>\n",
              "      <th>0</th>\n",
              "      <td>[donald, trump, just, couldn, wish, all, ameri...</td>\n",
              "      <td>0</td>\n",
              "    </tr>\n",
              "    <tr>\n",
              "      <th>1</th>\n",
              "      <td>[hous, intellig, committe, chairman, devin, nu...</td>\n",
              "      <td>0</td>\n",
              "    </tr>\n",
              "    <tr>\n",
              "      <th>2</th>\n",
              "      <td>[friday, was, reveal, that, former, milwauke, ...</td>\n",
              "      <td>0</td>\n",
              "    </tr>\n",
              "    <tr>\n",
              "      <th>3</th>\n",
              "      <td>[christma, day, donald, trump, announc, that, ...</td>\n",
              "      <td>0</td>\n",
              "    </tr>\n",
              "    <tr>\n",
              "      <th>4</th>\n",
              "      <td>[pope, franci, use, his, annual, christma, day...</td>\n",
              "      <td>0</td>\n",
              "    </tr>\n",
              "    <tr>\n",
              "      <th>...</th>\n",
              "      <td>...</td>\n",
              "      <td>...</td>\n",
              "    </tr>\n",
              "    <tr>\n",
              "      <th>21412</th>\n",
              "      <td>[brussel, reuter, nato, alli, tuesday, welcom,...</td>\n",
              "      <td>1</td>\n",
              "    </tr>\n",
              "    <tr>\n",
              "      <th>21413</th>\n",
              "      <td>[london, reuter, lexisnexi, provid, legal, reg...</td>\n",
              "      <td>1</td>\n",
              "    </tr>\n",
              "    <tr>\n",
              "      <th>21414</th>\n",
              "      <td>[minsk, reuter, the, shadow, disus, soviet-era...</td>\n",
              "      <td>1</td>\n",
              "    </tr>\n",
              "    <tr>\n",
              "      <th>21415</th>\n",
              "      <td>[moscow, reuter, vatican, secretari, state, ca...</td>\n",
              "      <td>1</td>\n",
              "    </tr>\n",
              "    <tr>\n",
              "      <th>21416</th>\n",
              "      <td>[jakarta, reuter, indonesia, will, buy, sukhoi...</td>\n",
              "      <td>1</td>\n",
              "    </tr>\n",
              "  </tbody>\n",
              "</table>\n",
              "<p>44898 rows × 2 columns</p>\n",
              "</div>"
            ],
            "text/plain": [
              "                                                    text  target\n",
              "0      [donald, trump, just, couldn, wish, all, ameri...       0\n",
              "1      [hous, intellig, committe, chairman, devin, nu...       0\n",
              "2      [friday, was, reveal, that, former, milwauke, ...       0\n",
              "3      [christma, day, donald, trump, announc, that, ...       0\n",
              "4      [pope, franci, use, his, annual, christma, day...       0\n",
              "...                                                  ...     ...\n",
              "21412  [brussel, reuter, nato, alli, tuesday, welcom,...       1\n",
              "21413  [london, reuter, lexisnexi, provid, legal, reg...       1\n",
              "21414  [minsk, reuter, the, shadow, disus, soviet-era...       1\n",
              "21415  [moscow, reuter, vatican, secretari, state, ca...       1\n",
              "21416  [jakarta, reuter, indonesia, will, buy, sukhoi...       1\n",
              "\n",
              "[44898 rows x 2 columns]"
            ]
          },
          "execution_count": 29,
          "metadata": {},
          "output_type": "execute_result"
        }
      ],
      "source": [
        "data"
      ],
      "id": "Zfr_qU6_stL3"
    },
    {
      "cell_type": "code",
      "execution_count": null,
      "metadata": {
        "id": "eYU7F1ZDstL4"
      },
      "outputs": [],
      "source": [
        "data['text']=data['text'].apply(' '.join)"
      ],
      "id": "eYU7F1ZDstL4"
    },
    {
      "cell_type": "code",
      "execution_count": null,
      "metadata": {
        "id": "5dbRWheXstL5",
        "outputId": "253380aa-3c2c-4270-acb6-34d7b0363bd8"
      },
      "outputs": [
        {
          "data": {
            "text/html": [
              "<div>\n",
              "<style scoped>\n",
              "    .dataframe tbody tr th:only-of-type {\n",
              "        vertical-align: middle;\n",
              "    }\n",
              "\n",
              "    .dataframe tbody tr th {\n",
              "        vertical-align: top;\n",
              "    }\n",
              "\n",
              "    .dataframe thead th {\n",
              "        text-align: right;\n",
              "    }\n",
              "</style>\n",
              "<table border=\"1\" class=\"dataframe\">\n",
              "  <thead>\n",
              "    <tr style=\"text-align: right;\">\n",
              "      <th></th>\n",
              "      <th>text</th>\n",
              "      <th>target</th>\n",
              "    </tr>\n",
              "  </thead>\n",
              "  <tbody>\n",
              "    <tr>\n",
              "      <th>0</th>\n",
              "      <td>donald trump just couldn wish all american hap...</td>\n",
              "      <td>0</td>\n",
              "    </tr>\n",
              "    <tr>\n",
              "      <th>1</th>\n",
              "      <td>hous intellig committe chairman devin nune hav...</td>\n",
              "      <td>0</td>\n",
              "    </tr>\n",
              "    <tr>\n",
              "      <th>2</th>\n",
              "      <td>friday was reveal that former milwauke sheriff...</td>\n",
              "      <td>0</td>\n",
              "    </tr>\n",
              "    <tr>\n",
              "      <th>3</th>\n",
              "      <td>christma day donald trump announc that would b...</td>\n",
              "      <td>0</td>\n",
              "    </tr>\n",
              "    <tr>\n",
              "      <th>4</th>\n",
              "      <td>pope franci use his annual christma day messag...</td>\n",
              "      <td>0</td>\n",
              "    </tr>\n",
              "    <tr>\n",
              "      <th>...</th>\n",
              "      <td>...</td>\n",
              "      <td>...</td>\n",
              "    </tr>\n",
              "    <tr>\n",
              "      <th>21412</th>\n",
              "      <td>brussel reuter nato alli tuesday welcom presid...</td>\n",
              "      <td>1</td>\n",
              "    </tr>\n",
              "    <tr>\n",
              "      <th>21413</th>\n",
              "      <td>london reuter lexisnexi provid legal regulator...</td>\n",
              "      <td>1</td>\n",
              "    </tr>\n",
              "    <tr>\n",
              "      <th>21414</th>\n",
              "      <td>minsk reuter the shadow disus soviet-era facto...</td>\n",
              "      <td>1</td>\n",
              "    </tr>\n",
              "    <tr>\n",
              "      <th>21415</th>\n",
              "      <td>moscow reuter vatican secretari state cardin p...</td>\n",
              "      <td>1</td>\n",
              "    </tr>\n",
              "    <tr>\n",
              "      <th>21416</th>\n",
              "      <td>jakarta reuter indonesia will buy sukhoi fight...</td>\n",
              "      <td>1</td>\n",
              "    </tr>\n",
              "  </tbody>\n",
              "</table>\n",
              "<p>44898 rows × 2 columns</p>\n",
              "</div>"
            ],
            "text/plain": [
              "                                                    text  target\n",
              "0      donald trump just couldn wish all american hap...       0\n",
              "1      hous intellig committe chairman devin nune hav...       0\n",
              "2      friday was reveal that former milwauke sheriff...       0\n",
              "3      christma day donald trump announc that would b...       0\n",
              "4      pope franci use his annual christma day messag...       0\n",
              "...                                                  ...     ...\n",
              "21412  brussel reuter nato alli tuesday welcom presid...       1\n",
              "21413  london reuter lexisnexi provid legal regulator...       1\n",
              "21414  minsk reuter the shadow disus soviet-era facto...       1\n",
              "21415  moscow reuter vatican secretari state cardin p...       1\n",
              "21416  jakarta reuter indonesia will buy sukhoi fight...       1\n",
              "\n",
              "[44898 rows x 2 columns]"
            ]
          },
          "execution_count": 31,
          "metadata": {},
          "output_type": "execute_result"
        }
      ],
      "source": [
        "data"
      ],
      "id": "5dbRWheXstL5"
    },
    {
      "cell_type": "markdown",
      "metadata": {
        "id": "ZEOoy5uZstL6"
      },
      "source": [
        "# Data Classification:"
      ],
      "id": "ZEOoy5uZstL6"
    },
    {
      "cell_type": "code",
      "execution_count": null,
      "metadata": {
        "id": "OLAmKZwJstL6"
      },
      "outputs": [],
      "source": [
        "from sklearn.model_selection import train_test_split"
      ],
      "id": "OLAmKZwJstL6"
    },
    {
      "cell_type": "code",
      "execution_count": null,
      "metadata": {
        "id": "gxeg7rVlstL7",
        "outputId": "bbe74e0e-53e7-413f-cd60-ea72a6e3819a"
      },
      "outputs": [
        {
          "name": "stdout",
          "output_type": "stream",
          "text": [
            "\n",
            "\n"
          ]
        },
        {
          "data": {
            "text/plain": [
              "6230     1\n",
              "343      0\n",
              "7318     1\n",
              "21300    1\n",
              "7391     1\n",
              "Name: target, dtype: int64"
            ]
          },
          "execution_count": 50,
          "metadata": {},
          "output_type": "execute_result"
        }
      ],
      "source": [
        "X_train,X_test,Y_train,Y_test= train_test_split(data['text'],data['target'],test_size=0.25)\n",
        "X_train.head()\n",
        "print('\\n')\n",
        "Y_train.head()"
      ],
      "id": "gxeg7rVlstL7"
    },
    {
      "cell_type": "markdown",
      "metadata": {
        "id": "1b6sIzYFstL9"
      },
      "source": [
        "# Vectorisation:-"
      ],
      "id": "1b6sIzYFstL9"
    },
    {
      "cell_type": "code",
      "execution_count": null,
      "metadata": {
        "id": "EMjPq85xstL9"
      },
      "outputs": [],
      "source": [
        "from sklearn.feature_extraction.text import TfidfVectorizer\n",
        "my_tfidf=TfidfVectorizer(max_df=0.7)\n",
        "\n",
        "tfidf_train=my_tfidf.fit_transform(X_train)\n",
        "tfidf_test=my_tfidf.transform(X_test)"
      ],
      "id": "EMjPq85xstL9"
    },
    {
      "cell_type": "code",
      "execution_count": null,
      "metadata": {
        "id": "CqAVG3-gstL-",
        "outputId": "e20dbe4c-6343-465b-fa1a-e913bc0e710c"
      },
      "outputs": [
        {
          "data": {
            "text/plain": [
              "<33673x92614 sparse matrix of type '<class 'numpy.float64'>'\n",
              "\twith 6010602 stored elements in Compressed Sparse Row format>"
            ]
          },
          "execution_count": 39,
          "metadata": {},
          "output_type": "execute_result"
        }
      ],
      "source": [
        "tfidf_train"
      ],
      "id": "CqAVG3-gstL-"
    },
    {
      "cell_type": "code",
      "execution_count": null,
      "metadata": {
        "id": "EjyZ74U_stL_",
        "outputId": "722defdf-ef00-41f3-eb8b-d25380b6caf0"
      },
      "outputs": [
        {
          "name": "stdout",
          "output_type": "stream",
          "text": [
            "  (0, 9593)\t0.022054860640755004\n",
            "  (0, 26518)\t0.05216427771508708\n",
            "  (0, 21918)\t0.07675540244072251\n",
            "  (0, 74510)\t0.04135963913312595\n",
            "  (0, 16100)\t0.05161133078035225\n",
            "  (0, 87399)\t0.06868592365430641\n",
            "  (0, 1552)\t0.049757425364636586\n",
            "  (0, 29125)\t0.03823630177837458\n",
            "  (0, 14963)\t0.037280491237529946\n",
            "  (0, 49857)\t0.019409713254482083\n",
            "  (0, 11705)\t0.040870524702506815\n",
            "  (0, 34951)\t0.02178742652928869\n",
            "  (0, 59658)\t0.0445267628749909\n",
            "  (0, 38420)\t0.050457142354174846\n",
            "  (0, 61699)\t0.05502854407551621\n",
            "  (0, 42072)\t0.06207518849161645\n",
            "  (0, 75600)\t0.03344730823852218\n",
            "  (0, 80395)\t0.021641643576044214\n",
            "  (0, 63595)\t0.05502854407551621\n",
            "  (0, 21683)\t0.02946720296571409\n",
            "  (0, 87168)\t0.05022447386560749\n",
            "  (0, 66800)\t0.05046796254114458\n",
            "  (0, 55986)\t0.017217096696734664\n",
            "  (0, 25921)\t0.045822206811564875\n",
            "  (0, 89305)\t0.02915302179950194\n",
            "  :\t:\n",
            "  (33672, 89625)\t0.06826644240819553\n",
            "  (33672, 58002)\t0.03295661198000345\n",
            "  (33672, 89442)\t0.020063725905961848\n",
            "  (33672, 62792)\t0.03458123554614705\n",
            "  (33672, 10841)\t0.020318642330374066\n",
            "  (33672, 59621)\t0.018553903668127147\n",
            "  (33672, 11671)\t0.03691343522540668\n",
            "  (33672, 69730)\t0.02780409451473146\n",
            "  (33672, 13670)\t0.02297070080642928\n",
            "  (33672, 81915)\t0.021655221143332192\n",
            "  (33672, 61856)\t0.026226151920972194\n",
            "  (33672, 38032)\t0.03713938829382808\n",
            "  (33672, 59735)\t0.048858809696238265\n",
            "  (33672, 66444)\t0.06442492866010471\n",
            "  (33672, 61066)\t0.05912726275222617\n",
            "  (33672, 37299)\t0.3581617007686237\n",
            "  (33672, 41618)\t0.059791767083216034\n",
            "  (33672, 38167)\t0.01854922857740013\n",
            "  (33672, 8309)\t0.08277752690385629\n",
            "  (33672, 42348)\t0.04897136974058423\n",
            "  (33672, 23672)\t0.2071844788233866\n",
            "  (33672, 73888)\t0.03451378714851752\n",
            "  (33672, 89064)\t0.04951556234052368\n",
            "  (33672, 59950)\t0.0415437457852668\n",
            "  (33672, 78154)\t0.046061932873104824\n"
          ]
        }
      ],
      "source": [
        "print(tfidf_train)"
      ],
      "id": "EjyZ74U_stL_"
    },
    {
      "cell_type": "markdown",
      "metadata": {
        "id": "_beiHrN3stMA"
      },
      "source": [
        "# Logistic Regression"
      ],
      "id": "_beiHrN3stMA"
    },
    {
      "cell_type": "code",
      "execution_count": null,
      "metadata": {
        "id": "q01kk89BstMA"
      },
      "outputs": [],
      "source": [
        "from sklearn.linear_model import LogisticRegression\n",
        "from sklearn.tree import DecisionTreeClassifier\n",
        "from sklearn.metrics import accuracy_score"
      ],
      "id": "q01kk89BstMA"
    },
    {
      "cell_type": "code",
      "execution_count": null,
      "metadata": {
        "id": "LfodARv1stMB",
        "outputId": "de38023f-be07-4ad9-a7ba-c4fd35786dca"
      },
      "outputs": [
        {
          "name": "stdout",
          "output_type": "stream",
          "text": [
            "98.7706013363029 %\n"
          ]
        }
      ],
      "source": [
        "model_1 = LogisticRegression(max_iter=900)\n",
        "model_1.fit(tfidf_train,Y_train)\n",
        "pred_1 = model_1.predict(tfidf_test)\n",
        "cr1 = accuracy_score(Y_test,pred_1)\n",
        "print(cr1*100,'%')"
      ],
      "id": "LfodARv1stMB"
    },
    {
      "cell_type": "markdown",
      "metadata": {
        "id": "LV7DU-lAstMC"
      },
      "source": [
        "# PassiveAggressiveClassifier"
      ],
      "id": "LV7DU-lAstMC"
    },
    {
      "cell_type": "code",
      "execution_count": null,
      "metadata": {
        "id": "pbPWd3-estMC"
      },
      "outputs": [],
      "source": [
        "from sklearn.linear_model import PassiveAggressiveClassifier"
      ],
      "id": "pbPWd3-estMC"
    },
    {
      "cell_type": "code",
      "execution_count": null,
      "metadata": {
        "id": "ylOZei68stMD",
        "outputId": "5cd663e3-abbc-40e2-f6ae-e9fe47a32aa6"
      },
      "outputs": [
        {
          "data": {
            "text/plain": [
              "PassiveAggressiveClassifier(max_iter=50)"
            ]
          },
          "execution_count": 46,
          "metadata": {},
          "output_type": "execute_result"
        }
      ],
      "source": [
        "model = PassiveAggressiveClassifier(max_iter=50)\n",
        "model.fit(tfidf_train,Y_train)"
      ],
      "id": "ylOZei68stMD"
    },
    {
      "cell_type": "code",
      "execution_count": null,
      "metadata": {
        "id": "ctVoLFN1stME",
        "outputId": "6020258d-7798-4c30-d56e-e5678875b146"
      },
      "outputs": [
        {
          "name": "stdout",
          "output_type": "stream",
          "text": [
            "The accuracy of prediction is  99.57238307349667 %\n"
          ]
        }
      ],
      "source": [
        "Y_pred=model.predict(tfidf_test)\n",
        "accscore=accuracy_score(Y_test,Y_pred)\n",
        "print('The accuracy of prediction is ',accscore*100,'%')"
      ],
      "id": "ctVoLFN1stME"
    }
  ],
  "metadata": {
    "kernelspec": {
      "display_name": "Python 3",
      "language": "python",
      "name": "python3"
    },
    "language_info": {
      "codemirror_mode": {
        "name": "ipython",
        "version": 3
      },
      "file_extension": ".py",
      "mimetype": "text/x-python",
      "name": "python",
      "nbconvert_exporter": "python",
      "pygments_lexer": "ipython3",
      "version": "3.7.6"
    },
    "colab": {
      "name": "News Classification .ipynb",
      "provenance": [],
      "include_colab_link": true
    }
  },
  "nbformat": 4,
  "nbformat_minor": 5
}